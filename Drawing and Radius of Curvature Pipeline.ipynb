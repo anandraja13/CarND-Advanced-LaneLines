{
 "cells": [
  {
   "cell_type": "code",
   "execution_count": 1,
   "metadata": {},
   "outputs": [],
   "source": [
    "import numpy as np\n",
    "import cv2\n",
    "import segment_image as seg\n",
    "from ipm import inverse_perspective_mapping\n",
    "from ipm import get_inv_ipm_transform\n",
    "import matplotlib.pyplot as plt\n",
    "import find_lane_lines as lanelines\n",
    "from moviepy.editor import VideoFileClip\n",
    "\n",
    "%matplotlib inline"
   ]
  },
  {
   "cell_type": "code",
   "execution_count": null,
   "metadata": {},
   "outputs": [],
   "source": [
    "# Read in an image\n",
    "img = cv2.imread('test_images/straight_lines2.jpg')\n",
    "\n",
    "# Transform to inverse perspective mapping\n",
    "ipm_img = inverse_perspective_mapping(img)\n",
    "M_inv = get_inv_ipm_transform()\n",
    "\n",
    "# Segmentation pipeline\n",
    "seg_img = seg.segmentation_pipeline(ipm_img)\n",
    "\n",
    "# Find lane fits\n",
    "left_fit, right_fit, left_idx, right_idx, nzx, nzy, rect_corners = lanelines.find_lane_fit(seg_img)\n",
    "\n",
    "# Plot lane fits\n",
    "lanelines.plot_lane_fit(seg_img, left_fit, right_fit, left_idx, right_idx, nzx, nzy, rect_corners)"
   ]
  },
  {
   "cell_type": "markdown",
   "metadata": {},
   "source": [
    "# Try drawing"
   ]
  },
  {
   "cell_type": "code",
   "execution_count": null,
   "metadata": {},
   "outputs": [],
   "source": [
    "# Create an image to draw the lines on\n",
    "warp_zero = np.zeros_like(ipm_img).astype(np.uint8)\n",
    "color_warp = warp_zero\n",
    "\n",
    "# Recast the x and y points into usable format for cv2.fillPoly()\n",
    "ploty = np.linspace(0, ipm_img.shape[0]-1, ipm_img.shape[0])\n",
    "left_fitx  = left_fit[0]*ploty**2 + left_fit[1]*ploty + left_fit[2]\n",
    "right_fitx = right_fit[0]*ploty**2 + right_fit[1]*ploty + right_fit[2]\n",
    "\n",
    "pts_left = np.array([np.transpose(np.vstack([left_fitx, ploty]))])\n",
    "pts_right = np.array([np.flipud(np.transpose(np.vstack([right_fitx, ploty])))])\n",
    "pts = np.hstack((pts_left, pts_right))\n",
    "\n",
    "# Draw the lane onto the warped blank image\n",
    "poly_pts = np.squeeze(np.int_([pts]))\n",
    "cv2.fillPoly(color_warp, np.int32([poly_pts]), (0,255,0))\n",
    "\n",
    "# Warp the blank back to original image space using inverse perspective matrix (Minv)\n",
    "newwarp = cv2.warpPerspective(color_warp, M_inv, (seg_img.shape[1], seg_img.shape[0]))\n",
    "\n",
    "# Combine the result with the original image\n",
    "result = cv2.addWeighted(img, 1, newwarp, 0.3, 0)\n",
    "\n",
    "plt.imshow(cv2.cvtColor(result,cv2.COLOR_BGR2RGB))"
   ]
  },
  {
   "cell_type": "code",
   "execution_count": null,
   "metadata": {},
   "outputs": [],
   "source": [
    "result = lanelines.draw_nice_lane(img, ipm_img, seg_img, left_fit, right_fit, M_inv)\n",
    "\n",
    "left_radius,right_radius, dist = lanelines.compute_radius_and_center_dist(ipm_img, left_fit, right_fit)\n",
    "result = lanelines.draw_lane_details(result, (left_radius+right_radius)/2, dist)\n",
    "\n",
    "plt.imshow(cv2.cvtColor(result,cv2.COLOR_BGR2RGB))\n"
   ]
  },
  {
   "cell_type": "code",
   "execution_count": null,
   "metadata": {},
   "outputs": [],
   "source": [
    "# Extrinsics\n",
    "xm_per_pix = 3.7/350 # meters per pixel (the lane width seems to be 350 pixels, and is typically 3.7 meters)\n",
    "ym_per_pix = 3.048/180 # meters per pixel ( the dashed line seems to be 180 pixels, and is typically 3.048 meters)\n",
    "\n",
    "y_eval = ipm_img.shape[0]-1\n",
    "\n",
    "# Fit new polynomials to x,y in world space\n",
    "ploty = np.linspace(0, ipm_img.shape[0]-1, ipm_img.shape[0])\n",
    "left_fitx  = left_fit[0]*ploty**2 + left_fit[1]*ploty + left_fit[2]\n",
    "right_fitx = right_fit[0]*ploty**2 + right_fit[1]*ploty + right_fit[2]\n",
    "\n",
    "left_fit_cr = np.polyfit(ploty*ym_per_pix, left_fitx*xm_per_pix, 2)\n",
    "right_fit_cr = np.polyfit(ploty*ym_per_pix, right_fitx*xm_per_pix, 2)\n",
    "\n",
    "# Calculate the new radii of curvature\n",
    "left_curverad = ((1 + (2*left_fit_cr[0]*y_eval*ym_per_pix + left_fit_cr[1])**2)**1.5) / np.absolute(2*left_fit_cr[0])\n",
    "right_curverad = ((1 + (2*right_fit_cr[0]*y_eval*ym_per_pix + right_fit_cr[1])**2)**1.5) / np.absolute(2*right_fit_cr[0])\n",
    "# Now our radius of curvature is in meters\n",
    "print(left_curverad, 'm', right_curverad, 'm')\n",
    "\n",
    "vehicle_center = img.shape[1] / 2\n",
    "\n",
    "left_x_pix  = left_fit[0]*y_eval**2 + left_fit[1]*y_eval + left_fit[2]\n",
    "right_x_pix = right_fit[0]*y_eval**2 + right_fit[1]*y_eval + right_fit[2]\n",
    "lane_center = (left_x_pix + right_x_pix) / 2\n",
    "\n",
    "dist = (vehicle_center - lane_center) * xm_per_pix\n",
    "print(dist, 'm')"
   ]
  },
  {
   "cell_type": "code",
   "execution_count": 2,
   "metadata": {},
   "outputs": [],
   "source": [
    "def process_image(img):\n",
    "    # Transform to inverse perspective mapping\n",
    "    ipm_img = inverse_perspective_mapping(img)\n",
    "    M_inv = get_inv_ipm_transform()\n",
    "\n",
    "    # Segmentation pipeline\n",
    "    seg_img = seg.segmentation_pipeline(ipm_img)\n",
    "\n",
    "    # Find lane fits\n",
    "    if not left_line.detected or not right_line.detected:\n",
    "        left_fit, right_fit, left_idx, right_idx, nzx, nzy, rect_corners = lanelines.find_lane_fit(seg_img)\n",
    "    else:\n",
    "        left_fit, right_fit, left_idx, right_idx, nzx, nzy = lanelines.update_lane_fit(seg_img, left_line.best_fit, right_line.best_fit)\n",
    "    \n",
    "    left_line.update(left_fit, left_idx)\n",
    "    right_line.update(right_fit, right_idx)\n",
    "    \n",
    "    # Draw lane fits\n",
    "    best_left_fit  = left_line.best_fit\n",
    "    best_right_fit = right_line.best_fit\n",
    "    \n",
    "    if best_left_fit is not None and best_right_fit is not None:\n",
    "        # Draw lanes\n",
    "        result = lanelines.draw_nice_lane(img, ipm_img, seg_img, best_left_fit, best_right_fit, M_inv)\n",
    "        \n",
    "        # Compute radius of curvature\n",
    "        left_radius,right_radius, dist = lanelines.compute_radius_and_center_dist(ipm_img, left_fit, right_fit)\n",
    "        \n",
    "        # Draw details - radius and distance\n",
    "        if left_radius is not None or right_radius is not None:\n",
    "            result = lanelines.draw_lane_details(result, (left_radius+right_radius)/2, dist)\n",
    "    else:\n",
    "        result = img\n",
    "    \n",
    "    return result\n",
    "\n"
   ]
  },
  {
   "cell_type": "code",
   "execution_count": null,
   "metadata": {},
   "outputs": [],
   "source": [
    "left_line  = lanelines.Line()\n",
    "right_line = lanelines.Line() \n",
    "\n",
    "video_name = 'project_video.mp4'\n",
    "video_output_name = 'project_video_track.mp4'\n",
    "video_input = VideoFileClip(video_name)\n",
    "\n",
    "processed_video = video_input.fl_image(process_image)\n",
    "\n",
    "processed_video.write_videofile(video_output_name, audio=False)"
   ]
  }
 ],
 "metadata": {
  "kernelspec": {
   "display_name": "Python 3",
   "language": "python",
   "name": "python3"
  },
  "language_info": {
   "codemirror_mode": {
    "name": "ipython",
    "version": 3
   },
   "file_extension": ".py",
   "mimetype": "text/x-python",
   "name": "python",
   "nbconvert_exporter": "python",
   "pygments_lexer": "ipython3",
   "version": "3.5.2"
  },
  "widgets": {
   "state": {},
   "version": "1.1.2"
  }
 },
 "nbformat": 4,
 "nbformat_minor": 2
}

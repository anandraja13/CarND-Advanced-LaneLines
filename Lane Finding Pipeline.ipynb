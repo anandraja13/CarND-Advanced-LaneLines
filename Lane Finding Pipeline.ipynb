{
 "cells": [
  {
   "cell_type": "markdown",
   "metadata": {},
   "source": [
    "# Lane Finding Pipeline"
   ]
  },
  {
   "cell_type": "code",
   "execution_count": 1,
   "metadata": {},
   "outputs": [],
   "source": [
    "import numpy as np\n",
    "import cv2\n",
    "import segment_image as seg\n",
    "from ipm import inverse_perspective_mapping\n",
    "import matplotlib.pyplot as plt\n",
    "import find_lane_lines as lanelines\n",
    "#from find_lane_lines import find_window_centroids\n",
    "#from find_lane_lines import plot_window_centroids\n",
    "import glob\n",
    "\n",
    "%matplotlib inline"
   ]
  },
  {
   "cell_type": "code",
   "execution_count": 2,
   "metadata": {},
   "outputs": [
    {
     "data": {
      "text/plain": [
       "<matplotlib.image.AxesImage at 0x112b6ec88>"
      ]
     },
     "execution_count": 2,
     "metadata": {},
     "output_type": "execute_result"
    },
    {
     "data": {
      "image/png": "[encoded data removed]",
      "text/plain": [
       "<matplotlib.figure.Figure at 0x11cc5def0>"
      ]
     },
     "metadata": {},
     "output_type": "display_data"
    }
   ],
   "source": [
    "window_width = 50\n",
    "window_height = 80 # Break image into 9 vertical layers since image height is 720\n",
    "margin = 100 # How much to slide left and right for searching\n",
    "\n",
    "# Read in an image\n",
    "img = cv2.imread('test_images/straight_lines1.jpg')\n",
    "\n",
    "# Transform to inverse perspective mapping\n",
    "ipm_img = inverse_perspective_mapping(img)\n",
    "\n",
    "# Segmentation pipeline\n",
    "seg_img = seg.segmentation_pipeline(ipm_img)\n",
    "\n",
    "# Find lanes\n",
    "window_centroids = lanelines.find_window_centroids(seg_img, window_width, window_height, margin)\n",
    "\n",
    "output = lanelines.plot_window_centroids(seg_img, window_centroids, window_width, window_height)\n",
    "\n",
    "plt.imshow(output)\n",
    "\n"
   ]
  },
  {
   "cell_type": "code",
   "execution_count": 3,
   "metadata": {},
   "outputs": [
    {
     "data": {
      "image/png": "[encoded data removed]",
      "text/plain": [
       "<matplotlib.figure.Figure at 0x1229679b0>"
      ]
     },
     "metadata": {},
     "output_type": "display_data"
    }
   ],
   "source": [
    "left_fit, right_fit, left_idx, right_idx, nzx, nzy = lanelines.find_lane_fit(seg_img)\n",
    "\n",
    "lanelines.plot_lane_fit(seg_img, left_fit, right_fit, left_idx, right_idx, nzx, nzy)"
   ]
  },
  {
   "cell_type": "code",
   "execution_count": null,
   "metadata": {},
   "outputs": [],
   "source": []
  }
 ],
 "metadata": {
  "kernelspec": {
   "display_name": "Python 3",
   "language": "python",
   "name": "python3"
  },
  "language_info": {
   "codemirror_mode": {
    "name": "ipython",
    "version": 3
   },
   "file_extension": ".py",
   "mimetype": "text/x-python",
   "name": "python",
   "nbconvert_exporter": "python",
   "pygments_lexer": "ipython3",
   "version": "3.5.2"
  },
  "widgets": {
   "state": {},
   "version": "1.1.2"
  }
 },
 "nbformat": 4,
 "nbformat_minor": 2
}
